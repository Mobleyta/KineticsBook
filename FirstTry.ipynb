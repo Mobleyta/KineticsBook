{
 "cells": [
  {
   "cell_type": "markdown",
   "metadata": {},
   "source": [
    "# Kinetics\n",
    "\n",
    "This is what I want to say.\n",
    "\n",
    "$ E=mc^{2}$\n",
    "\n",
    "$\\text {CH}_{2}\\text {O}$\n",
    "\n"
   ]
  },
  {
   "cell_type": "code",
   "execution_count": 80,
   "metadata": {},
   "outputs": [
    {
     "data": {
      "application/vnd.jupyter.widget-view+json": {
       "model_id": "2d9b36d2856d42d1847ffafbaaddb463",
       "version_major": 2,
       "version_minor": 0
      },
      "text/plain": [
       "Canvas(toolbar=Toolbar(toolitems=[('Home', 'Reset original view', 'home', 'home'), ('Back', 'Back to previous …"
      ]
     },
     "metadata": {},
     "output_type": "display_data"
    },
    {
     "data": {
      "application/vnd.jupyter.widget-view+json": {
       "model_id": "0dadf06372cd40b6bce909b52c2d64df",
       "version_major": 2,
       "version_minor": 0
      },
      "text/plain": [
       "interactive(children=(FloatSlider(value=1.0, description='init_conc', max=5.0, min=0.01), Dropdown(description…"
      ]
     },
     "metadata": {},
     "output_type": "display_data"
    }
   ],
   "source": [
    "%matplotlib widget\n",
    "from ipywidgets import interact, interactive\n",
    "import numpy as np\n",
    "import matplotlib.pyplot as plt\n",
    "from IPython.display import display, clear_output\n",
    "\n",
    "fig = plt.figure()\n",
    "ax = fig.add_subplot()\n",
    "\n",
    "x=np.linspace(0,100,1000)\n",
    "\n",
    "def first_order(azero,k,t):\n",
    "    return azero*np.exp(-k*t)\n",
    "\n",
    "def equation(azero,k,t_point):\n",
    "    slope=-k*azero*np.exp(-k*t_point)\n",
    "    a_value=azero*np.exp(-k*t_point)\n",
    "    b=-slope*t_point+a_value\n",
    "    return slope, b\n",
    "\n",
    "slope_text=ax.text(50,1,f'Slope:  ')\n",
    "constant_text=ax.text(50,.9,f'Rate:')\n",
    "plt.title(\"\")\n",
    "ax.set_title(\"First order decay\")\n",
    "\n",
    "\n",
    "@interact(init_conc=(0.01,5.00),rate_constant=([.01,0.1,1]),picked_t=(0,100.))\n",
    "def update(init_conc=1, rate_constant=0.1, picked_t=0):\n",
    "    lin_m, lin_b = equation(init_conc, rate_constant, picked_t)\n",
    "    lin_x = np.linspace(picked_t-10,picked_t+10)\n",
    "    [l.remove() for l in ax.lines]\n",
    "    y=first_order(init_conc,rate_constant,x)\n",
    "    lin_y = lin_m*lin_x + lin_b\n",
    "    ax.plot(x,y,color=\"C0\")\n",
    "    ax.plot(lin_x,lin_y,color=\"C1\")\n",
    "    slope_text.set_text(f'Slope: {lin_m:10.3f}')\n",
    "    constant_text.set_text(f'Rate:  {-lin_m:11.3f} '+r'$s^{-1}$')\n",
    "\n"
   ]
  },
  {
   "cell_type": "code",
   "execution_count": null,
   "metadata": {},
   "outputs": [],
   "source": []
  }
 ],
 "metadata": {
  "celltoolbar": "Attachments",
  "kernelspec": {
   "display_name": "Python 3",
   "language": "python",
   "name": "python3"
  },
  "language_info": {
   "codemirror_mode": {
    "name": "ipython",
    "version": 3
   },
   "file_extension": ".py",
   "mimetype": "text/x-python",
   "name": "python",
   "nbconvert_exporter": "python",
   "pygments_lexer": "ipython3",
   "version": "3.8.5"
  }
 },
 "nbformat": 4,
 "nbformat_minor": 4
}
